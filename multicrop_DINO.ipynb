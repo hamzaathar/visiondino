{
  "nbformat": 4,
  "nbformat_minor": 0,
  "metadata": {
    "colab": {
      "provenance": [],
      "authorship_tag": "ABX9TyNa+nmao3hTM0LJTYXCN0iJ"
    },
    "kernelspec": {
      "name": "python3",
      "display_name": "Python 3"
    },
    "language_info": {
      "name": "python"
    }
  },
  "cells": [
    {
      "cell_type": "code",
      "execution_count": null,
      "metadata": {
        "id": "7SDsHC9bbfYz"
      },
      "outputs": [],
      "source": [
        "class MultiCropWrapper(nn.Module):\n",
        "\n",
        "    def __init__(self, backbone, new_head):\n",
        "        super().__init__()\n",
        "        backbone.head = nn.Identity()  # deactivate original head\n",
        "        self.backbone = backbone\n",
        "        self.new_head = new_head\n",
        "\n",
        "    def forward(self, x):\n",
        "\n",
        "        n_crops = len(x)\n",
        "        concatenated = torch.cat(x, dim=0)  # (n_samples * n_crops, 3, size, size)\n",
        "        cls_embedding = self.backbone(concatenated)  # (n_samples * n_crops, in_dim)\n",
        "        logits = self.new_head(cls_embedding)  # (n_samples * n_crops, out_dim)\n",
        "        chunks = logits.chunk(n_crops)  # n_crops * (n_samples, out_dim)\n",
        "\n",
        "        return chunks"
      ]
    }
  ]
}